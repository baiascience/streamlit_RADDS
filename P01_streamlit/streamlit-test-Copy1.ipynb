{
 "cells": [
  {
   "cell_type": "code",
   "execution_count": 1,
   "id": "773347fb",
   "metadata": {},
   "outputs": [],
   "source": [
    "import streamlit as st"
   ]
  },
  {
   "cell_type": "code",
   "execution_count": 4,
   "id": "2c1a55c5",
   "metadata": {},
   "outputs": [],
   "source": [
    "\n",
    "st.set_page_config(page_title=\"My webpage\", page_icon=\":smile:\", layout=\"wide\")"
   ]
  },
  {
   "cell_type": "code",
   "execution_count": 7,
   "id": "81b7edbc",
   "metadata": {},
   "outputs": [
    {
     "data": {
      "text/plain": [
       "DeltaGenerator(_root_container=0, _provided_cursor=None, _parent=None, _block_type=None, _form_data=None)"
      ]
     },
     "execution_count": 7,
     "metadata": {},
     "output_type": "execute_result"
    }
   ],
   "source": [
    "#---- HEADER SECTION-----\n",
    "\n",
    "st.subheader(\"Hi, I am Mathew :smile:\")\n",
    "st.title(\"A Data Analyst from Brazil\")\n",
    "st.write(\"I am passionate about findyins ways to use Python\")"
   ]
  },
  {
   "cell_type": "code",
   "execution_count": null,
   "id": "bdc5ccf2",
   "metadata": {},
   "outputs": [],
   "source": []
  }
 ],
 "metadata": {
  "kernelspec": {
   "display_name": "Python 3 (ipykernel)",
   "language": "python",
   "name": "python3"
  },
  "language_info": {
   "codemirror_mode": {
    "name": "ipython",
    "version": 3
   },
   "file_extension": ".py",
   "mimetype": "text/x-python",
   "name": "python",
   "nbconvert_exporter": "python",
   "pygments_lexer": "ipython3",
   "version": "3.9.16"
  }
 },
 "nbformat": 4,
 "nbformat_minor": 5
}
